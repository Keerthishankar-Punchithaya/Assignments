{
  "nbformat": 4,
  "nbformat_minor": 0,
  "metadata": {
    "colab": {
      "provenance": [],
      "include_colab_link": true
    },
    "kernelspec": {
      "name": "python3",
      "display_name": "Python 3"
    },
    "language_info": {
      "name": "python"
    }
  },
  "cells": [
    {
      "cell_type": "markdown",
      "metadata": {
        "id": "view-in-github",
        "colab_type": "text"
      },
      "source": [
        "<a href=\"https://colab.research.google.com/github/Keerthishankar-Punchithaya/Assignments/blob/main/Copy_of_PSC_Assignment.ipynb\" target=\"_parent\"><img src=\"https://colab.research.google.com/assets/colab-badge.svg\" alt=\"Open In Colab\"/></a>"
      ]
    },
    {
      "cell_type": "markdown",
      "source": [
        "Create a dictionary representing a person's details (name, age, city). Allow the user to update any information within the dictionary.\n",
        "Write a program to remove a specific key-value pair from a dictionary based on user input."
      ],
      "metadata": {
        "id": "CrEv69eyS698"
      }
    },
    {
      "cell_type": "code",
      "source": [
        "def create_person(name,age,city):\n",
        "  person={\n",
        "      \"Name\":name,\n",
        "      \"Age\":age,\n",
        "      \"City\":city\n",
        "  }\n",
        "  return person\n",
        "\n",
        "def update_person(person,key,value):\n",
        "  person[key]=value\n",
        "\n",
        "def display_person(person):\n",
        "  print(\"Person details: \")\n",
        "  for key,value in person.items():\n",
        "    print(f\"{key}:{value}\")\n",
        "\n",
        "def remove_person(person,key):\n",
        "  if key in person:\n",
        "    del person[key]\n",
        "    print(f\"{key} removed successfully.\")\n",
        "  else:\n",
        "    print(f\"{key} not found.\")\n",
        "\n",
        "name=input(\"Enter name: \")\n",
        "age=input(\"Enter age: \")\n",
        "city=input(\"Enter city: \")\n",
        "\n",
        "person_details=create_person(name,age,city)\n",
        "while True:\n",
        "    print(\"\\n1. Display person details\")\n",
        "    print(\"2. Update information\")\n",
        "    print(\"3. Remove information\")\n",
        "    print(\"4. Exit\")\n",
        "    choice=input(\"Enter choice: \")\n",
        "\n",
        "    if choice == '1':\n",
        "        display_person(person_details)\n",
        "    elif choice == '2':\n",
        "        key_to_update = input(\"Enter the information you want to update (Name/Age/City): \")\n",
        "        new_value = input(f\"Enter the new {key_to_update}: \")\n",
        "        update_person(person_details, key_to_update.capitalize(), new_value)\n",
        "        print(\"Information updated successfully.\")\n",
        "    elif choice == '3':\n",
        "        key_to_remove = input(\"Enter the information you want to remove (Name/Age/City): \")\n",
        "        remove_person(person_details, key_to_remove.capitalize())\n",
        "    elif choice == '4':\n",
        "        print(\"Exiting the program. Goodbye!\")\n",
        "        break\n",
        "    else:\n",
        "        print(\"Invalid choice. Please enter a valid option.\")"
      ],
      "metadata": {
        "id": "VrUFXkOFTDbQ",
        "colab": {
          "base_uri": "https://localhost:8080/"
        },
        "outputId": "fab70170-72f2-4c41-8c3f-5f4e55a98cf5"
      },
      "execution_count": 26,
      "outputs": [
        {
          "output_type": "stream",
          "name": "stdout",
          "text": [
            "Enter name: abc \n",
            "Enter age: 45\n",
            "Enter city: NY\n",
            "\n",
            "1. Display person details\n",
            "2. Update information\n",
            "3. Remove information\n",
            "4. Exit\n",
            "Enter choice: 1\n",
            "Person details: \n",
            "Name:abc \n",
            "Age:45\n",
            "City:NY\n",
            "\n",
            "1. Display person details\n",
            "2. Update information\n",
            "3. Remove information\n",
            "4. Exit\n",
            "Enter choice: 2\n",
            "Enter the information you want to update (Name/Age/City): Age\n",
            "Enter the new Age: 25\n",
            "Information updated successfully.\n",
            "\n",
            "1. Display person details\n",
            "2. Update information\n",
            "3. Remove information\n",
            "4. Exit\n",
            "Enter choice: 1\n",
            "Person details: \n",
            "Name:abc \n",
            "Age:25\n",
            "City:NY\n",
            "\n",
            "1. Display person details\n",
            "2. Update information\n",
            "3. Remove information\n",
            "4. Exit\n",
            "Enter choice: 3\n",
            "Enter the information you want to remove (Name/Age/City): City\n",
            "City removed successfully.\n",
            "\n",
            "1. Display person details\n",
            "2. Update information\n",
            "3. Remove information\n",
            "4. Exit\n",
            "Enter choice: 1\n",
            "Person details: \n",
            "Name:abc \n",
            "Age:25\n",
            "\n",
            "1. Display person details\n",
            "2. Update information\n",
            "3. Remove information\n",
            "4. Exit\n",
            "Enter choice: 4\n",
            "Exiting the program. Goodbye!\n"
          ]
        }
      ]
    },
    {
      "cell_type": "code",
      "source": [],
      "metadata": {
        "id": "gWGCj7BhTDnh"
      },
      "execution_count": null,
      "outputs": []
    },
    {
      "cell_type": "markdown",
      "source": [
        "Create a lambda function to filter even numbers and odd numbers from a list of integers."
      ],
      "metadata": {
        "id": "bcX1zO9aTD4e"
      }
    },
    {
      "cell_type": "code",
      "source": [
        "num=list(map(int,input(\"Enter list of integers: \").split()))\n",
        "even=list(filter(lambda x: x%2==0 ,num))\n",
        "odd=list(filter(lambda x: x%2!=0 ,num))\n",
        "print(\"Even: \",even,\"\\n\",\"Odd: \",odd)"
      ],
      "metadata": {
        "id": "glUvCZAZU8TS",
        "colab": {
          "base_uri": "https://localhost:8080/"
        },
        "outputId": "bd2ca8b5-b567-4de3-ff02-98934b9fa3ad"
      },
      "execution_count": 1,
      "outputs": [
        {
          "output_type": "stream",
          "name": "stdout",
          "text": [
            "Enter list of integers: 1 5 3 6 2 4\n",
            "Even:  [6, 2, 4] \n",
            " Odd:  [1, 5, 3]\n"
          ]
        }
      ]
    },
    {
      "cell_type": "code",
      "source": [],
      "metadata": {
        "id": "1vV1miEXU8eD"
      },
      "execution_count": null,
      "outputs": []
    },
    {
      "cell_type": "markdown",
      "source": [
        "Write a Python program that checks if a key exists in a dictionary. If it exists, display its value; if not, add the key with a default value."
      ],
      "metadata": {
        "id": "IHYwYRHWU8uX"
      }
    },
    {
      "cell_type": "code",
      "source": [
        "key=input(\"Enter the key: \")\n",
        "dict={\n",
        "    \"abc\":\"1\",\n",
        "    \"def\":\"2\",\n",
        "    \"hij\":\"3\",\n",
        "    \"jkl\":\"4\"\n",
        "}\n",
        "if key in dict.keys():\n",
        "  print(\"Value: \",dict[key])"
      ],
      "metadata": {
        "id": "aur2Uj7GVZEx",
        "colab": {
          "base_uri": "https://localhost:8080/"
        },
        "outputId": "2db2166a-39cc-4525-bd22-806995a4a995"
      },
      "execution_count": 3,
      "outputs": [
        {
          "output_type": "stream",
          "name": "stdout",
          "text": [
            "Enter the key: abc\n",
            "Value:  1\n"
          ]
        }
      ]
    },
    {
      "cell_type": "code",
      "source": [],
      "metadata": {
        "id": "DsZPcsoQVZIM"
      },
      "execution_count": null,
      "outputs": []
    },
    {
      "cell_type": "markdown",
      "source": [
        "Create a lambda function that filters a list of strings based on their lengths (e.g., filter strings with lengths greater than 5)."
      ],
      "metadata": {
        "id": "FcHVQbDlVZYH"
      }
    },
    {
      "cell_type": "code",
      "source": [
        "s=list(map(str,input(\"Enter list of string: \").split()))\n",
        "output=list(filter(lambda x: len(x)>5, s))\n",
        "print(\"Strings after filter:\",output)"
      ],
      "metadata": {
        "id": "1o_1tpwMVhMZ",
        "colab": {
          "base_uri": "https://localhost:8080/"
        },
        "outputId": "998a7bad-0f61-449f-ca06-3d82afc56abd"
      },
      "execution_count": 3,
      "outputs": [
        {
          "output_type": "stream",
          "name": "stdout",
          "text": [
            "Enter list of string: abc def this string palindrom\n",
            "Strings after filter: ['string', 'palindrom']\n"
          ]
        }
      ]
    },
    {
      "cell_type": "code",
      "source": [],
      "metadata": {
        "id": "ovYAWJFGVhPy"
      },
      "execution_count": null,
      "outputs": []
    },
    {
      "cell_type": "markdown",
      "source": [
        "Write a program that searches for a specific word in a text file and displays the line numbers where it occurs."
      ],
      "metadata": {
        "id": "Il0q5PlxVhgS"
      }
    },
    {
      "cell_type": "code",
      "source": [
        "def search_word(file_path,search_word):\n",
        "  try:\n",
        "    with open(\"file_path\",\"r\") as f:\n",
        "      for line_num, line in enumerate(f.readlines(),1):\n",
        "        print(f,line_num)\n",
        "  except FileNotFoundError:\n",
        "    print(f\"File '{file_path}' not found.\")\n",
        "  except Exception as e:\n",
        "    print(f\"An error occurred: {e}\")\n",
        "\n",
        "search_word(\"masai.txt\",\"This\")"
      ],
      "metadata": {
        "id": "QHZk-MJ5VoLp",
        "colab": {
          "base_uri": "https://localhost:8080/"
        },
        "outputId": "1c95c303-11ef-4591-98c7-a4836f9863ea"
      },
      "execution_count": 17,
      "outputs": [
        {
          "output_type": "stream",
          "name": "stdout",
          "text": [
            "File 'masai.txt' not found.\n"
          ]
        }
      ]
    },
    {
      "cell_type": "code",
      "source": [
        "with open(\"masai.txt\",\"w\") as f:\n",
        "  for i in range(1,11):\n",
        "    f.write(f\"This is line {i}\\n\")"
      ],
      "metadata": {
        "id": "-p2sH6aZVoQe"
      },
      "execution_count": 10,
      "outputs": []
    },
    {
      "cell_type": "code",
      "source": [
        "with open(\"masai.txt\",\"r\") as f:\n",
        "  print(f.read())"
      ],
      "metadata": {
        "colab": {
          "base_uri": "https://localhost:8080/"
        },
        "id": "habMttJUxBiw",
        "outputId": "3003646e-ab57-47e0-c2f0-d0219fc061ec"
      },
      "execution_count": 11,
      "outputs": [
        {
          "output_type": "stream",
          "name": "stdout",
          "text": [
            "This is line 1\n",
            "This is line 2\n",
            "This is line 3\n",
            "This is line 4\n",
            "This is line 5\n",
            "This is line 6\n",
            "This is line 7\n",
            "This is line 8\n",
            "This is line 9\n",
            "This is line 10\n",
            "\n"
          ]
        }
      ]
    },
    {
      "cell_type": "markdown",
      "source": [
        "Read data from a CSV file containing student records (name, age, grade) and filter out students with a grade below a certain threshold."
      ],
      "metadata": {
        "id": "qAvWXD2YVoeJ"
      }
    },
    {
      "cell_type": "code",
      "source": [
        "import pandas as pd\n",
        "data=pd.read_csv('students.csv')\n",
        "print(data)"
      ],
      "metadata": {
        "id": "0Rt10G1WVuQT",
        "colab": {
          "base_uri": "https://localhost:8080/"
        },
        "outputId": "5fdacbce-9e82-462b-e8f2-d59e1f29d677"
      },
      "execution_count": 28,
      "outputs": [
        {
          "output_type": "stream",
          "name": "stdout",
          "text": [
            "     name  age   grade\n",
            "0     abd    18     70\n",
            "1     def    56     85\n",
            "2    name    25     50\n",
            "3  random    14     25\n"
          ]
        }
      ]
    },
    {
      "cell_type": "code",
      "source": [
        "import pandas as pd\n",
        "data=pd.read_csv('students.csv')\n",
        "grade_threshold=70\n",
        "filter=data[data['grade'] >= grade_threshold]\n",
        "print(filter)"
      ],
      "metadata": {
        "id": "cLtc9_hyVuMy",
        "colab": {
          "base_uri": "https://localhost:8080/"
        },
        "outputId": "43571e76-a60d-48f1-ca75-78500c82edb7"
      },
      "execution_count": 27,
      "outputs": [
        {
          "output_type": "stream",
          "name": "stdout",
          "text": [
            "  name  age   grade\n",
            "0  abd    18     70\n",
            "1  def    56     85\n"
          ]
        }
      ]
    }
  ]
}