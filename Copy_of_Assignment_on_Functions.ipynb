{
  "nbformat": 4,
  "nbformat_minor": 0,
  "metadata": {
    "colab": {
      "provenance": [],
      "include_colab_link": true
    },
    "kernelspec": {
      "name": "python3",
      "display_name": "Python 3"
    },
    "language_info": {
      "name": "python"
    }
  },
  "cells": [
    {
      "cell_type": "markdown",
      "metadata": {
        "id": "view-in-github",
        "colab_type": "text"
      },
      "source": [
        "<a href=\"https://colab.research.google.com/github/Keerthishankar-Punchithaya/Assignments/blob/main/Copy_of_Assignment_on_Functions.ipynb\" target=\"_parent\"><img src=\"https://colab.research.google.com/assets/colab-badge.svg\" alt=\"Open In Colab\"/></a>"
      ]
    },
    {
      "cell_type": "markdown",
      "source": [
        "Q1. Define a Function to calculate the geometric sum of n numbers Note: In mathematics, a geometric series is a series with a constant ratio between successive terms.\n",
        "\n",
        "Function should take 3 arguments a,r,n where a is constant, r is common ratio, n is number of terms\n",
        "\n",
        "To Know More about Geometric Series: https://en.wikipedia.org/wiki/Geometric_series"
      ],
      "metadata": {
        "id": "naeLJUiGO3DN"
      }
    },
    {
      "cell_type": "code",
      "execution_count": null,
      "metadata": {
        "id": "2jxUWx67OZtq"
      },
      "outputs": [],
      "source": [
        "def g_sum(a,r,n):\n",
        "  sum=a*(1-r**n)/(1-r)\n",
        "  return sum"
      ]
    },
    {
      "cell_type": "code",
      "source": [
        "a=int(input(\"Enter first digit:\"))\n",
        "r=int(input(\"Enter ratio digit:\"))\n",
        "n=int(input(\"Enter power digit:\"))\n",
        "print(g_sum(a,r,n))"
      ],
      "metadata": {
        "id": "vdggXqr1PcbW",
        "colab": {
          "base_uri": "https://localhost:8080/"
        },
        "outputId": "14cc6582-6783-42da-c5c5-b7e2a59243a3"
      },
      "execution_count": null,
      "outputs": [
        {
          "output_type": "stream",
          "name": "stdout",
          "text": [
            "Enter first digit:1\n",
            "Enter ratio digit:2\n",
            "Enter power digit:10\n",
            "1023.0\n"
          ]
        }
      ]
    },
    {
      "cell_type": "markdown",
      "source": [
        "Q2. Write a Python function to multiply all the numbers of 2 lists and store in the new list. Calculate the sum of the new list. Function should take input as 2 lists and return the sum of the new list. List input should be takenfrom the user.\n",
        "\n",
        "Sample\n",
        "List1 : [8, 2, 3, 1, 7]\n",
        "List2 : [2, 3, 4, 5, 6]\n",
        "\n",
        "New List will have elements as\n",
        "\n",
        "List1[0] * List2[0]\n",
        "\n",
        "List1[1] * List2[1]\n",
        "\n",
        "and so on.\n",
        "\n",
        "\n",
        "newList : [16, 6, 12, 5, 42]\n",
        "\n",
        "Expected Output : 81"
      ],
      "metadata": {
        "id": "cHnlIlRfPJ_N"
      }
    },
    {
      "cell_type": "code",
      "source": [
        "def sqr(list1,list2):\n",
        "  sum=0\n",
        "  for i in range(len(list1)):\n",
        "    sum+=list1[i]*list2[i]\n",
        "  return sum"
      ],
      "metadata": {
        "id": "5f6Ohoq7PZyR"
      },
      "execution_count": null,
      "outputs": []
    },
    {
      "cell_type": "code",
      "source": [
        "list1=list(map(int,input(\"List1: \").split()))\n",
        "list2=list(map(int,input(\"List2: \").split()))\n",
        "print(\"Output: \",sqr(list1,list2))"
      ],
      "metadata": {
        "id": "HV_bSSXsPdRo",
        "colab": {
          "base_uri": "https://localhost:8080/"
        },
        "outputId": "982c4f89-0c83-4484-b33e-0e26d90a9d8d"
      },
      "execution_count": null,
      "outputs": [
        {
          "output_type": "stream",
          "name": "stdout",
          "text": [
            "List1: 8 2 3 1 7\n",
            "List2: 2 3 4 5 6\n",
            "Output:  81\n"
          ]
        }
      ]
    },
    {
      "cell_type": "markdown",
      "source": [
        "Q3 Write a Function which takes list of numbers as input and returns their squares as a list\n",
        "\n",
        "input - [1,2,3,4]\n",
        "output - [1,4,9,16]"
      ],
      "metadata": {
        "id": "-LB6O9R5Pe3u"
      }
    },
    {
      "cell_type": "code",
      "source": [
        "def sqr(list1):\n",
        "  for i in range(len(list1)):\n",
        "    list1[i]=list1[i]**2\n",
        "  return list1"
      ],
      "metadata": {
        "id": "W0xX0OCFPlyk"
      },
      "execution_count": null,
      "outputs": []
    },
    {
      "cell_type": "code",
      "source": [
        "list1=list(map(int,input(\"List: \").split()))\n",
        "print(\"Output: \",sqr(list1))"
      ],
      "metadata": {
        "id": "NpsjZq6pPmY4",
        "colab": {
          "base_uri": "https://localhost:8080/"
        },
        "outputId": "b637cdc2-23f8-4791-c36e-501aca1d1381"
      },
      "execution_count": null,
      "outputs": [
        {
          "output_type": "stream",
          "name": "stdout",
          "text": [
            "List: 1 2 3 4\n",
            "Output:  [1, 4, 9, 16]\n"
          ]
        }
      ]
    },
    {
      "cell_type": "markdown",
      "source": [
        "Q4. With a given integral number n, write a program to generate a dictionary that contains (i, i*i) such that is an integral number between 1 and n (both included) and then the program should print the dictionary.\n",
        "\n",
        "Suppose the input is supplied to the program: 8\n",
        "Then, the output should be: {1: 1, 2: 4, 3: 9, 4: 16, 5: 25, 6: 36, 7: 49, 8: 64}"
      ],
      "metadata": {
        "id": "D952luaXPm-Y"
      }
    },
    {
      "cell_type": "code",
      "source": [
        "def create_dict(n):\n",
        "  d={}\n",
        "  for i in range(n):\n",
        "    d[i+1]=(i+1)*(i+1)\n",
        "  print(\"Dictionary is :\",d)"
      ],
      "metadata": {
        "id": "ohMu70WRPwGQ"
      },
      "execution_count": null,
      "outputs": []
    },
    {
      "cell_type": "code",
      "source": [
        "n=int(input(\"Enter a number: \"))\n",
        "create_dict(n)"
      ],
      "metadata": {
        "id": "jNUApzOvPwoP",
        "colab": {
          "base_uri": "https://localhost:8080/"
        },
        "outputId": "ce219da2-8345-4b3a-bf6d-72e344b7de68"
      },
      "execution_count": null,
      "outputs": [
        {
          "output_type": "stream",
          "name": "stdout",
          "text": [
            "Enter a number: 8\n",
            "Dictionary is : {1: 1, 2: 4, 3: 9, 4: 16, 5: 25, 6: 36, 7: 49, 8: 64}\n"
          ]
        }
      ]
    },
    {
      "cell_type": "markdown",
      "source": [
        "Q5.Define a function that calculates the factorial of a given number. Factorial is the product of all positive integers less than or equal to a given positive integer.\n",
        "Function will take exactly one argument. Find the factorial for (N=5)"
      ],
      "metadata": {
        "id": "S0o7OUOhPxDD"
      }
    },
    {
      "cell_type": "code",
      "source": [
        "def factorial(n):\n",
        "  p=1\n",
        "  for i in range(n,1,-1):\n",
        "    p*=i\n",
        "  return p"
      ],
      "metadata": {
        "id": "s-lhe0sTT_PU"
      },
      "execution_count": null,
      "outputs": []
    },
    {
      "cell_type": "code",
      "source": [
        "n=int(input(\"Enter a number: \"))\n",
        "print(n,\"factorial equals\",factorial(n))"
      ],
      "metadata": {
        "id": "dt4_4MpXUY4A",
        "colab": {
          "base_uri": "https://localhost:8080/"
        },
        "outputId": "d19e96df-1ee5-4408-adad-158be02cb830"
      },
      "execution_count": null,
      "outputs": [
        {
          "output_type": "stream",
          "name": "stdout",
          "text": [
            "Enter a number: 5\n",
            "5 factorial equals 120\n"
          ]
        }
      ]
    },
    {
      "cell_type": "markdown",
      "source": [
        "Q6. Write a function to find the maximum element in a given list.    \n",
        "sample list : [2,5,4,8,1]                 \n",
        "Expected output : 8"
      ],
      "metadata": {
        "id": "4fZ0y5V3UuMF"
      }
    },
    {
      "cell_type": "code",
      "source": [
        "def max(list1):\n",
        "  max=list1[0]\n",
        "  for i in list1:\n",
        "    if i>max:\n",
        "      max=i\n",
        "  return max"
      ],
      "metadata": {
        "id": "h0ofyY5cVWyy"
      },
      "execution_count": null,
      "outputs": []
    },
    {
      "cell_type": "code",
      "source": [
        "list1=list(map(int,input(\"Enter the list: \").split()))\n",
        "print(\"Maximum element is\",max(list1))"
      ],
      "metadata": {
        "id": "qXQBeGcCVYZ9",
        "colab": {
          "base_uri": "https://localhost:8080/"
        },
        "outputId": "11fee791-73cf-43ac-90d4-6a0ab6e453d5"
      },
      "execution_count": null,
      "outputs": [
        {
          "output_type": "stream",
          "name": "stdout",
          "text": [
            "Enter the list: 2 5 4 8 1\n",
            "Maximum element is 8\n"
          ]
        }
      ]
    },
    {
      "cell_type": "markdown",
      "source": [
        "Q7. Create a function that checks whether a given number is even or odd.   \n",
        "      Check for (N=4)"
      ],
      "metadata": {
        "id": "LtNLVTDOVXYW"
      }
    },
    {
      "cell_type": "code",
      "source": [
        "def check_type(n):\n",
        "  flag=\"Odd\"\n",
        "  if n%2==0:\n",
        "    flag=\"Even\"\n",
        "  return flag"
      ],
      "metadata": {
        "id": "tWoa_mvcV9C3"
      },
      "execution_count": null,
      "outputs": []
    },
    {
      "cell_type": "code",
      "source": [
        "n=int(input(\"Enter a number\"))\n",
        "print(\"The number is \",check_type(n))"
      ],
      "metadata": {
        "id": "KJ_lO5MIXsCH",
        "colab": {
          "base_uri": "https://localhost:8080/"
        },
        "outputId": "9ce8f34e-c976-4a66-b79f-1e4f3ed89215"
      },
      "execution_count": null,
      "outputs": [
        {
          "output_type": "stream",
          "name": "stdout",
          "text": [
            "Enter a number5\n",
            "The number is  Odd\n"
          ]
        }
      ]
    },
    {
      "cell_type": "markdown",
      "source": [
        "Q8.Create a Python program that imports the math module and uses its sqrt function to calculate the square root of a given number.  \n",
        "Calculate for (number=25)"
      ],
      "metadata": {
        "id": "CGgdgKjnXs4e"
      }
    },
    {
      "cell_type": "code",
      "source": [
        "import math"
      ],
      "metadata": {
        "id": "hxZseuVGYAqc"
      },
      "execution_count": null,
      "outputs": []
    },
    {
      "cell_type": "code",
      "source": [
        "n=int(input(\"Enter number to insert: \"))\n",
        "print(\"Square root\",n,\"is\",math.sqrt(n))"
      ],
      "metadata": {
        "id": "GtLXdWZLdFAd",
        "colab": {
          "base_uri": "https://localhost:8080/"
        },
        "outputId": "dc6e4adf-c16a-4520-f592-8b0b48d838c0"
      },
      "execution_count": null,
      "outputs": [
        {
          "output_type": "stream",
          "name": "stdout",
          "text": [
            "Enter number to insert: 25\n",
            "Square root 25 is 5.0\n"
          ]
        }
      ]
    },
    {
      "cell_type": "markdown",
      "source": [
        "Q9. Write a Python module with a function that generates a random number between a specified range. Use random module for this problem and the range between 100 to 500."
      ],
      "metadata": {
        "id": "2k2MQfGQdLS2"
      }
    },
    {
      "cell_type": "code",
      "source": [
        "import random"
      ],
      "metadata": {
        "id": "qQlSU9sQdNNw"
      },
      "execution_count": null,
      "outputs": []
    },
    {
      "cell_type": "code",
      "source": [
        "range=list(map(int,input(\"Enter range: \").split()))\n",
        "print(\"Random number is \",random.randrange(range[0],range[1]))"
      ],
      "metadata": {
        "id": "qgYUAhLYdNgw",
        "colab": {
          "base_uri": "https://localhost:8080/"
        },
        "outputId": "412bb97f-3fa8-4bba-e3b6-91e8c1051b21"
      },
      "execution_count": null,
      "outputs": [
        {
          "output_type": "stream",
          "name": "stdout",
          "text": [
            "Enter range: 100 500\n",
            "Random number is  302\n"
          ]
        }
      ]
    },
    {
      "cell_type": "markdown",
      "source": [
        "Q10. Create a Python program that uses the datetime module to display the current date and time."
      ],
      "metadata": {
        "id": "hlpqu4CRdN98"
      }
    },
    {
      "cell_type": "code",
      "source": [
        "import datetime"
      ],
      "metadata": {
        "id": "xaT70JDnf6oO"
      },
      "execution_count": null,
      "outputs": []
    },
    {
      "cell_type": "code",
      "source": [
        "print(datetime.datetime.now())"
      ],
      "metadata": {
        "id": "CIAUYsdWf63C",
        "colab": {
          "base_uri": "https://localhost:8080/"
        },
        "outputId": "bc7dcf13-a42d-46b1-c1d1-272fd2e98770"
      },
      "execution_count": null,
      "outputs": [
        {
          "output_type": "stream",
          "name": "stdout",
          "text": [
            "2023-11-29 13:03:02.353936\n"
          ]
        }
      ]
    },
    {
      "cell_type": "markdown",
      "source": [
        "Q11. Design a function that accepts a list of strings, converts each string to uppercase, and returns the modified list. Note - You can not use any buil-in function"
      ],
      "metadata": {
        "id": "ep_XVg8uYH0j"
      }
    },
    {
      "cell_type": "code",
      "source": [
        "def func(slist):\n",
        "  alphabet_dict={'a':'A','b':'B','c':'C','d':'D','e':'E','f':'F','g':'G','h':'H','i':'I','j':'J','k':'K','l':'L','m':'M','n':'N','o':'O','p':'P','q':'Q','r':'R','s':'S','t':'T','u':'U','v':'V','w':'W','x':'X','y':'Y','z':'Z'}\n",
        "  for i in range(len(slist)):\n",
        "    # print(slist[i])\n",
        "    str=slist[i]\n",
        "    cap_str=\"\"\n",
        "    for j in range(len(str)):\n",
        "      cap_str+=alphabet_dict.get(str[j])\n",
        "    # print(cap_str)\n",
        "    slist[i]=cap_str\n",
        "  return slist\n",
        "\n",
        "\n",
        "slist=list(map(str,input(\"Enter list of string: \").split()))\n",
        "print(\"String of list to uppercase: \",func(slist))"
      ],
      "metadata": {
        "id": "jjbgnGzHYQgN",
        "colab": {
          "base_uri": "https://localhost:8080/"
        },
        "outputId": "bd1d4155-28b4-48b7-e712-a7de1fdd54e8"
      },
      "execution_count": 16,
      "outputs": [
        {
          "output_type": "stream",
          "name": "stdout",
          "text": [
            "Enter list of string: abc def ghi\n",
            "String of list to uppercase:  ['ABC', 'DEF', 'GHI']\n"
          ]
        }
      ]
    },
    {
      "cell_type": "code",
      "source": [],
      "metadata": {
        "id": "2BCdXw5-YQts"
      },
      "execution_count": 16,
      "outputs": []
    },
    {
      "cell_type": "markdown",
      "source": [
        "Q12. Develop a function that takes user input and validates whether it's a valid email address using regular expressions.  ( For example email id should have @ and '.com' )"
      ],
      "metadata": {
        "id": "Zfhd-vQDYQ_n"
      }
    },
    {
      "cell_type": "code",
      "source": [
        "def validate(email):\n",
        "  at_index=email.find('@')\n",
        "  dot_index=email.find('.com')\n",
        "  flag=False\n",
        "  if at_index!=-1 and dot_index!=-1 and at_index<dot_index:\n",
        "    flag=True\n",
        "  return flag\n",
        "\n",
        "email=input(\"Enter email: \")\n",
        "print(validate(email))"
      ],
      "metadata": {
        "id": "GqrXqo7RYxrA",
        "colab": {
          "base_uri": "https://localhost:8080/"
        },
        "outputId": "a29353b1-2bd3-4008-cd10-b639a57575b0"
      },
      "execution_count": null,
      "outputs": [
        {
          "output_type": "stream",
          "name": "stdout",
          "text": [
            "Enter email: abc@gmail.com\n",
            "True\n"
          ]
        }
      ]
    },
    {
      "cell_type": "code",
      "source": [],
      "metadata": {
        "id": "0FWH5y5UYx4D"
      },
      "execution_count": null,
      "outputs": []
    },
    {
      "cell_type": "markdown",
      "source": [
        "Q13. Design a function that removes duplicates from a list without using set() or other built-in functions."
      ],
      "metadata": {
        "id": "hBYnAATfadco"
      }
    },
    {
      "cell_type": "code",
      "source": [
        "def remove_duplicate(list1):\n",
        "  unique_list=[]\n",
        "  for i in list1:\n",
        "    if i not in unique_list:\n",
        "      unique_list.append(i)\n",
        "  return unique_list\n",
        "list1=list(map(int,input(\"Enter a list: \").split()))\n",
        "print(\"List without duplicates: \",remove_duplicate(list1))"
      ],
      "metadata": {
        "id": "SE7zL48Qafgq",
        "colab": {
          "base_uri": "https://localhost:8080/"
        },
        "outputId": "ccbf4307-9ad2-479e-92eb-0034f1ae8698"
      },
      "execution_count": 5,
      "outputs": [
        {
          "output_type": "stream",
          "name": "stdout",
          "text": [
            "Enter a list: 1 2 2 3 5 4 6 8\n",
            "List without duplicates:  [1, 2, 3, 5, 4, 6, 8]\n"
          ]
        }
      ]
    },
    {
      "cell_type": "code",
      "source": [],
      "metadata": {
        "id": "5RnxgwRdaftn"
      },
      "execution_count": null,
      "outputs": []
    },
    {
      "cell_type": "markdown",
      "source": [
        "Q14. Create a function that reverses the order of words in a string without using any built-in reverse or split functions."
      ],
      "metadata": {
        "id": "H9elPZj1agjj"
      }
    },
    {
      "cell_type": "code",
      "source": [
        "def reverse(str):\n",
        "  return str[::-1]\n",
        "str=input()\n",
        "print(reverse(str))"
      ],
      "metadata": {
        "id": "-A25fY3PawyI",
        "colab": {
          "base_uri": "https://localhost:8080/"
        },
        "outputId": "b588e54a-5be1-4722-e6aa-ef9d1955a346"
      },
      "execution_count": 12,
      "outputs": [
        {
          "output_type": "stream",
          "name": "stdout",
          "text": [
            "hello\n",
            "olleh\n"
          ]
        }
      ]
    },
    {
      "cell_type": "code",
      "source": [],
      "metadata": {
        "id": "sNRw31Nlaw_1"
      },
      "execution_count": 12,
      "outputs": []
    },
    {
      "cell_type": "markdown",
      "source": [
        "Q15. Create a function that takes a string input and counts the number of vowels in it without using count() or any built-in library functions."
      ],
      "metadata": {
        "id": "ojECT53paxXU"
      }
    },
    {
      "cell_type": "code",
      "source": [
        "def count_vowel(str):\n",
        "  count=0\n",
        "  vowels=\"aeiou\"\n",
        "  for i in str:\n",
        "    if i in vowels:\n",
        "      count+=1\n",
        "  return count\n",
        "\n",
        "str=input(\"Enter a word: \")\n",
        "print(\"Number of vowels: \",count_vowel(str))"
      ],
      "metadata": {
        "id": "q4trQ4aia7La",
        "colab": {
          "base_uri": "https://localhost:8080/"
        },
        "outputId": "130f88ae-3f1b-4db9-a55f-dc27bfe988d5"
      },
      "execution_count": 17,
      "outputs": [
        {
          "output_type": "stream",
          "name": "stdout",
          "text": [
            "Enter a word: consonent\n",
            "Number of vowels:  3\n"
          ]
        }
      ]
    },
    {
      "cell_type": "code",
      "source": [],
      "metadata": {
        "id": "QXBtNYQ9a7O6"
      },
      "execution_count": null,
      "outputs": []
    },
    {
      "cell_type": "markdown",
      "source": [],
      "metadata": {
        "id": "f53FO3rRYySz"
      }
    }
  ]
}