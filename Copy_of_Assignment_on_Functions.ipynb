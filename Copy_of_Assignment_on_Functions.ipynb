{
  "nbformat": 4,
  "nbformat_minor": 0,
  "metadata": {
    "colab": {
      "provenance": [],
      "include_colab_link": true
    },
    "kernelspec": {
      "name": "python3",
      "display_name": "Python 3"
    },
    "language_info": {
      "name": "python"
    }
  },
  "cells": [
    {
      "cell_type": "markdown",
      "metadata": {
        "id": "view-in-github",
        "colab_type": "text"
      },
      "source": [
        "<a href=\"https://colab.research.google.com/github/Keerthishankar-Punchithaya/Assignments/blob/main/Copy_of_Assignment_on_Functions.ipynb\" target=\"_parent\"><img src=\"https://colab.research.google.com/assets/colab-badge.svg\" alt=\"Open In Colab\"/></a>"
      ]
    },
    {
      "cell_type": "markdown",
      "source": [
        "Q1. Define a Function to calculate the geometric sum of n numbers Note: In mathematics, a geometric series is a series with a constant ratio between successive terms.\n",
        "\n",
        "Function should take 3 arguments a,r,n where a is constant, r is common ratio, n is number of terms\n",
        "\n",
        "To Know More about Geometric Series: https://en.wikipedia.org/wiki/Geometric_series"
      ],
      "metadata": {
        "id": "naeLJUiGO3DN"
      }
    },
    {
      "cell_type": "code",
      "execution_count": 5,
      "metadata": {
        "id": "2jxUWx67OZtq"
      },
      "outputs": [],
      "source": [
        "def g_sum(a,r,n):\n",
        "  sum=a*(1-r**n)/(1-r)\n",
        "  return sum"
      ]
    },
    {
      "cell_type": "code",
      "source": [
        "a=int(input(\"Enter first digit:\"))\n",
        "r=int(input(\"Enter ratio digit:\"))\n",
        "n=int(input(\"Enter power digit:\"))\n",
        "print(g_sum(a,r,n))"
      ],
      "metadata": {
        "id": "vdggXqr1PcbW",
        "colab": {
          "base_uri": "https://localhost:8080/"
        },
        "outputId": "4195149f-fecf-4ce0-fe1b-5d265783197b"
      },
      "execution_count": 8,
      "outputs": [
        {
          "output_type": "stream",
          "name": "stdout",
          "text": [
            "Enter first digit:1\n",
            "Enter ratio digit:2\n",
            "Enter power digit:10\n",
            "1023.0\n"
          ]
        }
      ]
    },
    {
      "cell_type": "markdown",
      "source": [
        "Q2. Write a Python function to multiply all the numbers of 2 lists and store in the new list. Calculate the sum of the new list. Function should take input as 2 lists and return the sum of the new list. List input should be takenfrom the user.\n",
        "\n",
        "Sample List : [8, 2, 3, -1, 7]\n",
        "\n",
        "Expected Output : -336"
      ],
      "metadata": {
        "id": "cHnlIlRfPJ_N"
      }
    },
    {
      "cell_type": "code",
      "source": [],
      "metadata": {
        "id": "5f6Ohoq7PZyR"
      },
      "execution_count": null,
      "outputs": []
    },
    {
      "cell_type": "code",
      "source": [],
      "metadata": {
        "id": "HV_bSSXsPdRo"
      },
      "execution_count": null,
      "outputs": []
    },
    {
      "cell_type": "markdown",
      "source": [
        "Q3 Write a Function which takes list of numbers as input and returns their squares as a list\n",
        "\n",
        "input - [1,2,3,4]\n",
        "output - [1,4,9,16]"
      ],
      "metadata": {
        "id": "-LB6O9R5Pe3u"
      }
    },
    {
      "cell_type": "code",
      "source": [],
      "metadata": {
        "id": "W0xX0OCFPlyk"
      },
      "execution_count": null,
      "outputs": []
    },
    {
      "cell_type": "code",
      "source": [],
      "metadata": {
        "id": "NpsjZq6pPmY4"
      },
      "execution_count": null,
      "outputs": []
    },
    {
      "cell_type": "markdown",
      "source": [
        "Q4. With a given integral number n, write a program to generate a dictionary that contains (i, i*i) such that is an integral number between 1 and n (both included) and then the program should print the dictionary.\n",
        "\n",
        "Suppose the input is supplied to the program: 8\n",
        "Then, the output should be: {1: 1, 2: 4, 3: 9, 4: 16, 5: 25, 6: 36, 7: 49, 8: 64}"
      ],
      "metadata": {
        "id": "D952luaXPm-Y"
      }
    },
    {
      "cell_type": "code",
      "source": [],
      "metadata": {
        "id": "ohMu70WRPwGQ"
      },
      "execution_count": null,
      "outputs": []
    },
    {
      "cell_type": "code",
      "source": [],
      "metadata": {
        "id": "jNUApzOvPwoP"
      },
      "execution_count": null,
      "outputs": []
    },
    {
      "cell_type": "markdown",
      "source": [
        "Q5.Define a function that calculates the factorial of a given number. Factorial is the product of all positive integers less than or equal to a given positive integer.\n",
        "Function will take exactly one argument. Find the factorial for (N=5)"
      ],
      "metadata": {
        "id": "S0o7OUOhPxDD"
      }
    },
    {
      "cell_type": "code",
      "source": [],
      "metadata": {
        "id": "s-lhe0sTT_PU"
      },
      "execution_count": null,
      "outputs": []
    },
    {
      "cell_type": "code",
      "source": [],
      "metadata": {
        "id": "dt4_4MpXUY4A"
      },
      "execution_count": null,
      "outputs": []
    },
    {
      "cell_type": "markdown",
      "source": [
        "Q6. Write a function to find the maximum element in a given list.    \n",
        "sample list : [2,5,4,8,1]                 \n",
        "Expected output : 8"
      ],
      "metadata": {
        "id": "4fZ0y5V3UuMF"
      }
    },
    {
      "cell_type": "code",
      "source": [],
      "metadata": {
        "id": "h0ofyY5cVWyy"
      },
      "execution_count": null,
      "outputs": []
    },
    {
      "cell_type": "code",
      "source": [],
      "metadata": {
        "id": "qXQBeGcCVYZ9"
      },
      "execution_count": null,
      "outputs": []
    },
    {
      "cell_type": "markdown",
      "source": [
        "Q7. Create a function that checks whether a given number is even or odd.   \n",
        "      Check for (N=4)"
      ],
      "metadata": {
        "id": "LtNLVTDOVXYW"
      }
    },
    {
      "cell_type": "code",
      "source": [],
      "metadata": {
        "id": "tWoa_mvcV9C3"
      },
      "execution_count": null,
      "outputs": []
    },
    {
      "cell_type": "code",
      "source": [],
      "metadata": {
        "id": "KJ_lO5MIXsCH"
      },
      "execution_count": null,
      "outputs": []
    },
    {
      "cell_type": "markdown",
      "source": [
        "Q8.Create a Python program that imports the math module and uses its sqrt function to calculate the square root of a given number.  \n",
        "Calculate for (number=25)"
      ],
      "metadata": {
        "id": "CGgdgKjnXs4e"
      }
    },
    {
      "cell_type": "code",
      "source": [],
      "metadata": {
        "id": "hxZseuVGYAqc"
      },
      "execution_count": null,
      "outputs": []
    },
    {
      "cell_type": "code",
      "source": [],
      "metadata": {
        "id": "GtLXdWZLdFAd"
      },
      "execution_count": null,
      "outputs": []
    },
    {
      "cell_type": "markdown",
      "source": [
        "Q9. Write a Python module with a function that generates a random number between a specified range. Use random module for this problem and the range between 100 to 500."
      ],
      "metadata": {
        "id": "2k2MQfGQdLS2"
      }
    },
    {
      "cell_type": "code",
      "source": [],
      "metadata": {
        "id": "qQlSU9sQdNNw"
      },
      "execution_count": null,
      "outputs": []
    },
    {
      "cell_type": "code",
      "source": [],
      "metadata": {
        "id": "qgYUAhLYdNgw"
      },
      "execution_count": null,
      "outputs": []
    },
    {
      "cell_type": "markdown",
      "source": [
        "Q10. Create a Python program that uses the datetime module to display the current date and time."
      ],
      "metadata": {
        "id": "hlpqu4CRdN98"
      }
    },
    {
      "cell_type": "code",
      "source": [],
      "metadata": {
        "id": "xaT70JDnf6oO"
      },
      "execution_count": null,
      "outputs": []
    },
    {
      "cell_type": "code",
      "source": [],
      "metadata": {
        "id": "CIAUYsdWf63C"
      },
      "execution_count": null,
      "outputs": []
    }
  ]
}