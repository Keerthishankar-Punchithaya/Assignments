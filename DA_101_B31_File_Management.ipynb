{
  "cells": [
    {
      "cell_type": "markdown",
      "metadata": {
        "id": "view-in-github",
        "colab_type": "text"
      },
      "source": [
        "<a href=\"https://colab.research.google.com/github/Keerthishankar-Punchithaya/Assignments/blob/main/DA_101_B31_File_Management.ipynb\" target=\"_parent\"><img src=\"https://colab.research.google.com/assets/colab-badge.svg\" alt=\"Open In Colab\"/></a>"
      ]
    },
    {
      "cell_type": "code",
      "execution_count": null,
      "metadata": {
        "colab": {
          "base_uri": "https://localhost:8080/",
          "height": 73
        },
        "id": "bhH3ZY_OnoAK",
        "outputId": "c26546bd-7d02-42ce-e103-94d7eed0f8dd"
      },
      "outputs": [
        {
          "output_type": "display_data",
          "data": {
            "text/plain": [
              "<IPython.core.display.HTML object>"
            ],
            "text/html": [
              "\n",
              "     <input type=\"file\" id=\"files-f6204c50-044c-4707-b1ff-592edab0f5da\" name=\"files[]\" multiple disabled\n",
              "        style=\"border:none\" />\n",
              "     <output id=\"result-f6204c50-044c-4707-b1ff-592edab0f5da\">\n",
              "      Upload widget is only available when the cell has been executed in the\n",
              "      current browser session. Please rerun this cell to enable.\n",
              "      </output>\n",
              "      <script>// Copyright 2017 Google LLC\n",
              "//\n",
              "// Licensed under the Apache License, Version 2.0 (the \"License\");\n",
              "// you may not use this file except in compliance with the License.\n",
              "// You may obtain a copy of the License at\n",
              "//\n",
              "//      http://www.apache.org/licenses/LICENSE-2.0\n",
              "//\n",
              "// Unless required by applicable law or agreed to in writing, software\n",
              "// distributed under the License is distributed on an \"AS IS\" BASIS,\n",
              "// WITHOUT WARRANTIES OR CONDITIONS OF ANY KIND, either express or implied.\n",
              "// See the License for the specific language governing permissions and\n",
              "// limitations under the License.\n",
              "\n",
              "/**\n",
              " * @fileoverview Helpers for google.colab Python module.\n",
              " */\n",
              "(function(scope) {\n",
              "function span(text, styleAttributes = {}) {\n",
              "  const element = document.createElement('span');\n",
              "  element.textContent = text;\n",
              "  for (const key of Object.keys(styleAttributes)) {\n",
              "    element.style[key] = styleAttributes[key];\n",
              "  }\n",
              "  return element;\n",
              "}\n",
              "\n",
              "// Max number of bytes which will be uploaded at a time.\n",
              "const MAX_PAYLOAD_SIZE = 100 * 1024;\n",
              "\n",
              "function _uploadFiles(inputId, outputId) {\n",
              "  const steps = uploadFilesStep(inputId, outputId);\n",
              "  const outputElement = document.getElementById(outputId);\n",
              "  // Cache steps on the outputElement to make it available for the next call\n",
              "  // to uploadFilesContinue from Python.\n",
              "  outputElement.steps = steps;\n",
              "\n",
              "  return _uploadFilesContinue(outputId);\n",
              "}\n",
              "\n",
              "// This is roughly an async generator (not supported in the browser yet),\n",
              "// where there are multiple asynchronous steps and the Python side is going\n",
              "// to poll for completion of each step.\n",
              "// This uses a Promise to block the python side on completion of each step,\n",
              "// then passes the result of the previous step as the input to the next step.\n",
              "function _uploadFilesContinue(outputId) {\n",
              "  const outputElement = document.getElementById(outputId);\n",
              "  const steps = outputElement.steps;\n",
              "\n",
              "  const next = steps.next(outputElement.lastPromiseValue);\n",
              "  return Promise.resolve(next.value.promise).then((value) => {\n",
              "    // Cache the last promise value to make it available to the next\n",
              "    // step of the generator.\n",
              "    outputElement.lastPromiseValue = value;\n",
              "    return next.value.response;\n",
              "  });\n",
              "}\n",
              "\n",
              "/**\n",
              " * Generator function which is called between each async step of the upload\n",
              " * process.\n",
              " * @param {string} inputId Element ID of the input file picker element.\n",
              " * @param {string} outputId Element ID of the output display.\n",
              " * @return {!Iterable<!Object>} Iterable of next steps.\n",
              " */\n",
              "function* uploadFilesStep(inputId, outputId) {\n",
              "  const inputElement = document.getElementById(inputId);\n",
              "  inputElement.disabled = false;\n",
              "\n",
              "  const outputElement = document.getElementById(outputId);\n",
              "  outputElement.innerHTML = '';\n",
              "\n",
              "  const pickedPromise = new Promise((resolve) => {\n",
              "    inputElement.addEventListener('change', (e) => {\n",
              "      resolve(e.target.files);\n",
              "    });\n",
              "  });\n",
              "\n",
              "  const cancel = document.createElement('button');\n",
              "  inputElement.parentElement.appendChild(cancel);\n",
              "  cancel.textContent = 'Cancel upload';\n",
              "  const cancelPromise = new Promise((resolve) => {\n",
              "    cancel.onclick = () => {\n",
              "      resolve(null);\n",
              "    };\n",
              "  });\n",
              "\n",
              "  // Wait for the user to pick the files.\n",
              "  const files = yield {\n",
              "    promise: Promise.race([pickedPromise, cancelPromise]),\n",
              "    response: {\n",
              "      action: 'starting',\n",
              "    }\n",
              "  };\n",
              "\n",
              "  cancel.remove();\n",
              "\n",
              "  // Disable the input element since further picks are not allowed.\n",
              "  inputElement.disabled = true;\n",
              "\n",
              "  if (!files) {\n",
              "    return {\n",
              "      response: {\n",
              "        action: 'complete',\n",
              "      }\n",
              "    };\n",
              "  }\n",
              "\n",
              "  for (const file of files) {\n",
              "    const li = document.createElement('li');\n",
              "    li.append(span(file.name, {fontWeight: 'bold'}));\n",
              "    li.append(span(\n",
              "        `(${file.type || 'n/a'}) - ${file.size} bytes, ` +\n",
              "        `last modified: ${\n",
              "            file.lastModifiedDate ? file.lastModifiedDate.toLocaleDateString() :\n",
              "                                    'n/a'} - `));\n",
              "    const percent = span('0% done');\n",
              "    li.appendChild(percent);\n",
              "\n",
              "    outputElement.appendChild(li);\n",
              "\n",
              "    const fileDataPromise = new Promise((resolve) => {\n",
              "      const reader = new FileReader();\n",
              "      reader.onload = (e) => {\n",
              "        resolve(e.target.result);\n",
              "      };\n",
              "      reader.readAsArrayBuffer(file);\n",
              "    });\n",
              "    // Wait for the data to be ready.\n",
              "    let fileData = yield {\n",
              "      promise: fileDataPromise,\n",
              "      response: {\n",
              "        action: 'continue',\n",
              "      }\n",
              "    };\n",
              "\n",
              "    // Use a chunked sending to avoid message size limits. See b/62115660.\n",
              "    let position = 0;\n",
              "    do {\n",
              "      const length = Math.min(fileData.byteLength - position, MAX_PAYLOAD_SIZE);\n",
              "      const chunk = new Uint8Array(fileData, position, length);\n",
              "      position += length;\n",
              "\n",
              "      const base64 = btoa(String.fromCharCode.apply(null, chunk));\n",
              "      yield {\n",
              "        response: {\n",
              "          action: 'append',\n",
              "          file: file.name,\n",
              "          data: base64,\n",
              "        },\n",
              "      };\n",
              "\n",
              "      let percentDone = fileData.byteLength === 0 ?\n",
              "          100 :\n",
              "          Math.round((position / fileData.byteLength) * 100);\n",
              "      percent.textContent = `${percentDone}% done`;\n",
              "\n",
              "    } while (position < fileData.byteLength);\n",
              "  }\n",
              "\n",
              "  // All done.\n",
              "  yield {\n",
              "    response: {\n",
              "      action: 'complete',\n",
              "    }\n",
              "  };\n",
              "}\n",
              "\n",
              "scope.google = scope.google || {};\n",
              "scope.google.colab = scope.google.colab || {};\n",
              "scope.google.colab._files = {\n",
              "  _uploadFiles,\n",
              "  _uploadFilesContinue,\n",
              "};\n",
              "})(self);\n",
              "</script> "
            ]
          },
          "metadata": {}
        },
        {
          "output_type": "stream",
          "name": "stdout",
          "text": [
            "Saving python.txt to python.txt\n"
          ]
        }
      ],
      "source": [
        "from google.colab import files\n",
        "# Upload multiple files\n",
        "uploaded = files.upload()\n"
      ]
    },
    {
      "cell_type": "markdown",
      "metadata": {
        "id": "5d3FdIAIj5Ye"
      },
      "source": [
        "1. Write a function in python to read the content from a text file \"python.txt\" line by line and display the same on screen."
      ]
    },
    {
      "cell_type": "code",
      "execution_count": 42,
      "metadata": {
        "id": "O7V-P9MEkzfc"
      },
      "outputs": [],
      "source": [
        "with open('python.txt', 'w') as f:\n",
        "  for i in range(0,10):\n",
        "    f.write(\"Some words in file. This is line number \")\n",
        "    f.write('\\n')"
      ]
    },
    {
      "cell_type": "code",
      "execution_count": 44,
      "metadata": {
        "id": "Y409C335jbMk",
        "colab": {
          "base_uri": "https://localhost:8080/"
        },
        "outputId": "c4169737-8e15-4f49-963f-1c889f2b5404"
      },
      "outputs": [
        {
          "output_type": "stream",
          "name": "stdout",
          "text": [
            "Some words in file. This is line number \n",
            "Some words in file. This is line number \n",
            "Some words in file. This is line number \n",
            "Some words in file. This is line number \n",
            "Some words in file. This is line number \n",
            "Some words in file. This is line number \n",
            "Some words in file. This is line number \n",
            "Some words in file. This is line number \n",
            "Some words in file. This is line number \n",
            "Some words in file. This is line number \n",
            "\n"
          ]
        }
      ],
      "source": [
        "with open(\"python.txt\",\"r\") as f:\n",
        "  print(f.read())"
      ]
    },
    {
      "cell_type": "markdown",
      "metadata": {
        "id": "sqSgvBQfk0T0"
      },
      "source": [
        "2. Write a function in python to count the number of lines from a text file \"school.txt\" which is not starting with an alphabet \"A\".   \n",
        "\n",
        "Example: If the file \"story.txt\" contains the following lines:\n",
        "\n",
        "A boy is playing there.\n",
        "\n",
        "There is a playground.\n",
        "\n",
        "An aeroplane is in the sky.\n",
        "\n",
        "The sky is pink.\n",
        "\n",
        "Alphabets and numbers are allowed in the password.\n",
        "\n",
        "The function should display the output as 2\n"
      ]
    },
    {
      "cell_type": "code",
      "execution_count": 45,
      "metadata": {
        "id": "RE32wXYDk9Yt"
      },
      "outputs": [],
      "source": [
        "with open(\"school.txt\",\"w\") as f:\n",
        "  f.write(\"A boy is playing there.\\nThere is a playground.\\nAn aeroplane is in the sky.\\nThe sky is pink.\\nAlphabets and numbers are allowed in the password.\")"
      ]
    },
    {
      "cell_type": "code",
      "execution_count": 53,
      "metadata": {
        "id": "yN6aYGIxk6i5",
        "colab": {
          "base_uri": "https://localhost:8080/"
        },
        "outputId": "6229f0b2-89d6-49b4-9acf-6ad3ca060338"
      },
      "outputs": [
        {
          "output_type": "stream",
          "name": "stdout",
          "text": [
            "Count: 2\n"
          ]
        }
      ],
      "source": [
        "def count(file):\n",
        "  cnt=0\n",
        "  lines=file.split('\\n')\n",
        "  for l in lines:\n",
        "    if l[0]!=\"A\":\n",
        "      cnt+=1\n",
        "  return cnt\n",
        "\n",
        "with open(\"school.txt\",\"r\") as f:\n",
        "  print(\"Count:\",count(f.read()))"
      ]
    },
    {
      "cell_type": "markdown",
      "metadata": {
        "id": "i3hhcD-Mk93c"
      },
      "source": [
        "3. Write a function in Python to count and display the total number of words in all the text files."
      ]
    },
    {
      "cell_type": "code",
      "execution_count": 55,
      "metadata": {
        "id": "BtrWdun-l9u4"
      },
      "outputs": [],
      "source": [
        "with open(\"text.txt\",\"w\") as f:\n",
        "  f.write(\"There are some words in this file.\")"
      ]
    },
    {
      "cell_type": "code",
      "execution_count": 57,
      "metadata": {
        "id": "sPiglEWQl8AW",
        "colab": {
          "base_uri": "https://localhost:8080/"
        },
        "outputId": "eec02ee6-3ffc-47fe-cc16-d2b7161cd01f"
      },
      "outputs": [
        {
          "output_type": "stream",
          "name": "stdout",
          "text": [
            "Count of words: 7\n"
          ]
        }
      ],
      "source": [
        "def count(file):\n",
        "  wc=file.read().split()\n",
        "  cnt=0\n",
        "  for i in wc:\n",
        "    if i not in [\" \",\",\",\".\"]:\n",
        "      cnt+=1\n",
        "  return cnt\n",
        "with open(\"text.txt\",\"r\") as f:\n",
        "  print(\"Count of words:\",count(f))"
      ]
    },
    {
      "cell_type": "markdown",
      "metadata": {
        "id": "MTrsvP3dl-QD"
      },
      "source": [
        "4. Write a function in Python to read lines from a text file \"python.txt\". Your function should find and display the occurrence of the word \"the\".  \n",
        "\n",
        "For example: If the content of the file is:\n",
        "\n",
        "\"India is the fastest-growing economy. India is looking for more investments around the globe. The whole world is looking at India as a great market. Most of the Indians can foresee the heights that India is capable of reaching.\"\n",
        "\n",
        "The output should be 5.\n"
      ]
    },
    {
      "cell_type": "code",
      "execution_count": 59,
      "metadata": {
        "id": "Jp4pD1oumEU0"
      },
      "outputs": [],
      "source": [
        "with open(\"python.txt\",\"w\") as f:\n",
        "  f.write(\"India is the fastest-growing economy. India is looking for more investments around the globe. The whole world is looking at India as a great market. Most of the Indians can foresee the heights that India is capable of reaching.\")"
      ]
    },
    {
      "cell_type": "code",
      "execution_count": 61,
      "metadata": {
        "id": "BG8u9mw3mGVF",
        "colab": {
          "base_uri": "https://localhost:8080/"
        },
        "outputId": "9be16fd3-ca00-4149-f4c4-d0ab69e52279"
      },
      "outputs": [
        {
          "output_type": "stream",
          "name": "stdout",
          "text": [
            "The count is 5\n"
          ]
        }
      ],
      "source": [
        "def the_cnt(file):\n",
        "  w=file.read().split()\n",
        "  cnt=0\n",
        "  for i in w:\n",
        "    if i in (\"the\",\"The\"):\n",
        "      cnt+=1\n",
        "  return cnt\n",
        "with open(\"python.txt\",\"r\") as f:\n",
        "  print(\"The count is\",the_cnt(f))"
      ]
    },
    {
      "cell_type": "markdown",
      "metadata": {
        "id": "rTxg0C8emG74"
      },
      "source": [
        "5. Write a function display_words() in python to read lines from a text file \"school.txt\", and display those words, which are less than 4 characters"
      ]
    },
    {
      "cell_type": "code",
      "execution_count": 62,
      "metadata": {
        "id": "dR1wd_2vm2ZO",
        "colab": {
          "base_uri": "https://localhost:8080/"
        },
        "outputId": "c165d7ca-af64-430c-8c34-770809e06562"
      },
      "outputs": [
        {
          "output_type": "stream",
          "name": "stdout",
          "text": [
            "A\n",
            "boy\n",
            "is\n",
            "is\n",
            "a\n",
            "An\n",
            "is\n",
            "in\n",
            "the\n",
            "The\n",
            "sky\n",
            "is\n",
            "and\n",
            "are\n",
            "in\n",
            "the\n"
          ]
        }
      ],
      "source": [
        "def display_words(file):\n",
        "  w=file.read().split()\n",
        "  for i in w:\n",
        "    if len(i)<4:\n",
        "      print(i)\n",
        "with open(\"school.txt\",\"r\") as f:\n",
        "  display_words(f)"
      ]
    },
    {
      "cell_type": "code",
      "execution_count": null,
      "metadata": {
        "id": "0GZELXP_m3FA"
      },
      "outputs": [],
      "source": []
    },
    {
      "cell_type": "markdown",
      "metadata": {
        "id": "FJXmZpcPm3nk"
      },
      "source": [
        "6. Write a function in Python to count the words \"this\" and \"these\" present in a text file \"masai.txt\". [Note that the words \"this\" and \"these\" are complete words]"
      ]
    },
    {
      "cell_type": "code",
      "execution_count": 109,
      "metadata": {
        "id": "sWCfWYKgm82_"
      },
      "outputs": [],
      "source": [
        "with open(\"masai.txt\",\"w\") as f:\n",
        "  f.write(\"These are some words typed down that belong to english language. This is anothor sentence containing this.This is yet another sentence containing these.\")"
      ]
    },
    {
      "cell_type": "code",
      "execution_count": 85,
      "metadata": {
        "id": "Ha-eSQ5Xm-uS",
        "colab": {
          "base_uri": "https://localhost:8080/"
        },
        "outputId": "7bff47d4-83f4-4fb5-8e49-4fb2d095a154"
      },
      "outputs": [
        {
          "output_type": "stream",
          "name": "stdout",
          "text": [
            "this count: 0 \n",
            "these count: 0\n"
          ]
        }
      ],
      "source": [
        "def cnt_words(file):\n",
        "  w=file.read().split()\n",
        "  this_cnt=0\n",
        "  these_cnt=0\n",
        "  for i in w:\n",
        "    if i in (\"This\",\"this\"):\n",
        "      this_cnt+=1\n",
        "    elif i in (\"These\",\"these\"):\n",
        "      these_cnt+=1\n",
        "  return [this_cnt,these_cnt]\n",
        "with open(\"masai.txt\",\"r\") as f:\n",
        "  print(\"this count:\",cnt_words(f)[0],\"\\nthese count:\",cnt_words(f)[1])"
      ]
    },
    {
      "cell_type": "markdown",
      "metadata": {
        "id": "hROcRBJrm_P3"
      },
      "source": [
        "7. Write a function in Python to count words in a text file those are ending with alphabet \"n\"."
      ]
    },
    {
      "cell_type": "code",
      "execution_count": 86,
      "metadata": {
        "id": "feVuSxGMnEXF",
        "colab": {
          "base_uri": "https://localhost:8080/"
        },
        "outputId": "2912bacf-8685-4417-87c7-0d50bec93241"
      },
      "outputs": [
        {
          "output_type": "stream",
          "name": "stdout",
          "text": [
            "2\n"
          ]
        }
      ],
      "source": [
        "def count_n(file):\n",
        "  w=file.read().split()\n",
        "  cnt=0\n",
        "  for i in w:\n",
        "    if i[-1]==\"n\":\n",
        "      cnt+=1\n",
        "  return cnt\n",
        "with open(\"text.txt\",\"r\") as f:\n",
        "  print(count_n(f))"
      ]
    },
    {
      "cell_type": "code",
      "execution_count": null,
      "metadata": {
        "id": "3aEXNklPnFjO"
      },
      "outputs": [],
      "source": []
    },
    {
      "cell_type": "markdown",
      "metadata": {
        "id": "M3MeJw3enF5s"
      },
      "source": [
        "8. Write a function in Python to count lowercase character in a text file."
      ]
    },
    {
      "cell_type": "code",
      "execution_count": 92,
      "metadata": {
        "id": "aOyA8Pw1nKec",
        "colab": {
          "base_uri": "https://localhost:8080/"
        },
        "outputId": "87d61b3e-7787-4753-8a31-25073619f25d"
      },
      "outputs": [
        {
          "output_type": "stream",
          "name": "stdout",
          "text": [
            "76\n"
          ]
        }
      ],
      "source": [
        "def count(file):\n",
        "  w=file.read().split()\n",
        "  cnt=0\n",
        "  for word in w:\n",
        "    for i in range(len(word)):\n",
        "      if word[i].islower():\n",
        "        cnt+=1\n",
        "  return cnt\n",
        "with open(\"text.txt\",\"r\") as f:\n",
        "  print(count(f))"
      ]
    },
    {
      "cell_type": "code",
      "execution_count": null,
      "metadata": {
        "id": "uXkumQ8wnLWh"
      },
      "outputs": [],
      "source": []
    },
    {
      "cell_type": "markdown",
      "metadata": {
        "id": "bJkEu-iDnLve"
      },
      "source": [
        "9. A text file named \"masai.txt\" contains some text, which needs to be displayed such that every next character is separated by a symbol \"#\". Write a function definition for hash_display() in Python that would display the entire content of the file matter.txt in the desired format.     \n",
        "\n",
        "Example :\n",
        "If the file masai.txt has the following content stored in it :\n",
        "\n",
        "THE WORLD IS ROUND\n",
        "\n",
        "The function hash_display() should display the following content :\n",
        "\n",
        "T#H#E# #W#O#R#L#D# #I#S# #R#O#U#N#D#"
      ]
    },
    {
      "cell_type": "code",
      "execution_count": 100,
      "metadata": {
        "id": "fOqEN6XLnRjO",
        "colab": {
          "base_uri": "https://localhost:8080/"
        },
        "outputId": "a322f42c-de5c-4913-ded6-ba4830a85cad"
      },
      "outputs": [
        {
          "output_type": "stream",
          "name": "stdout",
          "text": [
            "T#h#e#s#e# #a#r#e# #s#o#m#e# #w#o#r#d#s# #t#y#p#e#d# #d#o#w#n# #t#h#a#t# #b#e#l#o#n#g# #t#o# #e#n#g#l#i#s#h# #l#a#n#g#u#a#g#e#.#T#h#i#s# #i#s# #a#n#o#t#h#o#r# #s#e#n#t#e#n#c#e# #c#o#n#t#a#i#n#i#n#g# #t#h#i#s#.#T#h#i#s# #i#s# #y#e#t# #a#n#o#t#h#e#r# #s#e#n#t#e#n#c#e# #c#o#n#t#a#i#n#i#n#g# #t#h#e#s#e#.\n"
          ]
        }
      ],
      "source": [
        "def hash_display(file):\n",
        "  words=[\"#\".join(word) for word in file.read().split()]\n",
        "  str1=\"# #\".join(words)\n",
        "  return str1\n",
        "with open(\"masai.txt\",\"r\") as f:\n",
        "  print(hash_display(f))"
      ]
    },
    {
      "cell_type": "code",
      "execution_count": null,
      "metadata": {
        "id": "sXvzmt8ync55"
      },
      "outputs": [],
      "source": []
    },
    {
      "cell_type": "markdown",
      "metadata": {
        "id": "51j-0ntwndcV"
      },
      "source": [
        "10. Aditi has used a text editing software to type some text. After saving the article as WORDS.TXT, she realised that she has wrongly typed alphabet T in place of alphabet N everywhere in the article.\n",
        "\n",
        "Write a function definition for TTON() in Python that would display the corrected version of entire content of the file masai.TXT with all the alphabets \"J\" to be displayed as an alphabet \"I\" on screen.\n",
        "\n",
        "Note: Assuming that WORD.TXT does not contain any J alphabet otherwise.\n",
        "\n",
        "Example:\n",
        "If Aditi has stored the following content in the file WORDS.TXT:\n",
        "\n",
        "WELL, THIS IS A WORD BY ITSELF. YOU COULD STRETCH THIS TO BE A SETTETCE\n",
        "\n",
        "The function TTON() should display the following content:"
      ]
    },
    {
      "cell_type": "code",
      "source": [
        "with open(\"masai.txt\",\"x\") as f:\n",
        "  f.write(\"WELL, THIS IS A WORD BY ITSELF. YOU COULD STRETCH THIS TO BE A SETTETCE\")"
      ],
      "metadata": {
        "id": "Wt0T85DCuchp"
      },
      "execution_count": null,
      "outputs": []
    },
    {
      "cell_type": "code",
      "execution_count": null,
      "metadata": {
        "id": "r91DqGWAnm2A",
        "colab": {
          "base_uri": "https://localhost:8080/"
        },
        "outputId": "ecb1742c-b418-45a4-e2d7-5523963f98f3"
      },
      "outputs": [
        {
          "output_type": "stream",
          "name": "stdout",
          "text": [
            "WELL, NHIS IS A WORD BY INSELF. YOU COULD SNRENCH NHIS NO BE A SENNENCE\n"
          ]
        }
      ],
      "source": [
        "def TTON(file):\n",
        "  str=file.read()\n",
        "  str1=str.replace(\"T\",\"N\").replace(\"J\",\"I\")\n",
        "  return str1\n",
        "with open(\"masai.txt\",\"r\") as f:\n",
        "  print(TTON(f))"
      ]
    },
    {
      "cell_type": "markdown",
      "metadata": {
        "id": "blNzbAiIOlRU"
      },
      "source": [
        "11.Write a function to find and display the longest word in the file \"masai.txt\"."
      ]
    },
    {
      "cell_type": "code",
      "execution_count": 110,
      "metadata": {
        "id": "_mA4XEOVQn6g",
        "colab": {
          "base_uri": "https://localhost:8080/"
        },
        "outputId": "9530e416-9348-4a85-ff64-7713a093e394"
      },
      "outputs": [
        {
          "output_type": "stream",
          "name": "stdout",
          "text": [
            "containing\n"
          ]
        }
      ],
      "source": [
        "def fun(file):\n",
        "  w=file.read().split()\n",
        "  return max(w,key=len)\n",
        "\n",
        "with open(\"masai.txt\",\"r\") as f:\n",
        "  print(fun(f))"
      ]
    },
    {
      "cell_type": "code",
      "execution_count": null,
      "metadata": {
        "id": "4V-lMUaeQo70"
      },
      "outputs": [],
      "source": []
    },
    {
      "cell_type": "markdown",
      "metadata": {
        "id": "9DKaIUCDQpfb"
      },
      "source": [
        "12.Write a function to read lines from a text file \"python.txt\" and display the content in uppercase."
      ]
    },
    {
      "cell_type": "code",
      "execution_count": 111,
      "metadata": {
        "id": "mAXBfVUtQvJG",
        "colab": {
          "base_uri": "https://localhost:8080/"
        },
        "outputId": "e12970b2-63f8-4d05-a87e-cbb2bb837ad4"
      },
      "outputs": [
        {
          "output_type": "stream",
          "name": "stdout",
          "text": [
            "THERE ARE SOME WORDS IN THIS FILE.\n",
            "THERE IS ANOTHER SENTENCE WITH THE WORD AN.\n",
            "AN SENTENCE OF WORDS.\n"
          ]
        }
      ],
      "source": [
        "def to_upper(file):\n",
        "  str=file.read().upper()\n",
        "  return str\n",
        "with open(\"text.txt\",\"r\") as f:\n",
        "  print(to_upper(f))"
      ]
    },
    {
      "cell_type": "code",
      "execution_count": null,
      "metadata": {
        "id": "khRCgbQNRpXs"
      },
      "outputs": [],
      "source": []
    },
    {
      "cell_type": "markdown",
      "metadata": {
        "id": "hIpJUAlPRqEp"
      },
      "source": [
        "13.Write a function in Python to read the content from a text file \"python.txt\" and display each line in reverse order. For example, if a line in the file is \"Hello, world!\", the function should display \"!dlrow ,olleH\"."
      ]
    },
    {
      "cell_type": "code",
      "execution_count": 117,
      "metadata": {
        "id": "dg6RoL4lSTtj"
      },
      "outputs": [],
      "source": [
        "with open(\"python.txt\",\"w\") as f:\n",
        "  f.write(\"India is the fastest-growing economy.\\nIndia is looking for more investments around the globe.\\nThe whole world is looking at India as a great market.\\nMost of the Indians can foresee the heights that India is capable of reaching.\")"
      ]
    },
    {
      "cell_type": "code",
      "execution_count": 125,
      "metadata": {
        "id": "71yBO37unLj7",
        "colab": {
          "base_uri": "https://localhost:8080/"
        },
        "outputId": "0471b40b-8731-42ab-97bb-8d52d40200eb"
      },
      "outputs": [
        {
          "output_type": "stream",
          "name": "stdout",
          "text": [
            "['aidnI si eht gniworg-tsetsaf .ymonoce', 'aidnI si gnikool rof erom stnemtsevni dnuora eht .ebolg', 'ehT elohw dlrow si gnikool ta aidnI sa a taerg .tekram', 'tsoM fo eht snaidnI nac eeserof eht sthgieh taht aidnI si elbapac fo .gnihcaer']\n"
          ]
        }
      ],
      "source": [
        "def reverse_line(file):\n",
        "  lines = file.readlines()\n",
        "  reversed_list = []\n",
        "  for line in lines:\n",
        "    words = line.split()\n",
        "    reversed_words = [word[::-1] for word in words]\n",
        "    reversed_line = ' '.join(reversed_words)\n",
        "    reversed_list.append(reversed_line)\n",
        "  return reversed_list\n",
        "\n",
        "with open(\"python.txt\", \"r\") as f:\n",
        "  print(reverse_line(f))"
      ]
    },
    {
      "cell_type": "code",
      "execution_count": null,
      "metadata": {
        "id": "cSV3MOIMSUtI"
      },
      "outputs": [],
      "source": []
    },
    {
      "cell_type": "markdown",
      "metadata": {
        "id": "3iQNicxwSVMT"
      },
      "source": [
        "14.Create a function in Python to read lines from a text file \"school.txt\" and display the unique words present in the file, ignoring case sensitivity"
      ]
    },
    {
      "cell_type": "code",
      "execution_count": 133,
      "metadata": {
        "id": "kfcTT4OhSfJq",
        "colab": {
          "base_uri": "https://localhost:8080/"
        },
        "outputId": "0e025b32-bbcf-443a-ecb9-bc373188ecc3"
      },
      "outputs": [
        {
          "output_type": "stream",
          "name": "stdout",
          "text": [
            "['a', 'boy', 'is', 'playing', 'there.', 'there', 'is', 'a', 'playground.', 'an', 'aeroplane', 'is', 'in', 'the', 'sky.', 'the', 'sky', 'is', 'pink.', 'alphabets', 'and', 'numbers', 'are', 'allowed', 'in', 'the', 'password.']\n"
          ]
        }
      ],
      "source": [
        "def unique(file):\n",
        "  str=file.read().lower().split()\n",
        "  return str\n",
        "with open(\"school.txt\",\"r\") as f:\n",
        "  print(unique(f))"
      ]
    },
    {
      "cell_type": "code",
      "execution_count": null,
      "metadata": {
        "id": "7fepgk_JW0W6"
      },
      "outputs": [],
      "source": []
    },
    {
      "cell_type": "markdown",
      "metadata": {
        "id": "235ZIlmfW00_"
      },
      "source": [
        "15.Create a function to read lines from a text file \"school.txt\" and display all the palindromic words in the file."
      ]
    },
    {
      "cell_type": "code",
      "execution_count": 126,
      "metadata": {
        "id": "W7YKB9IMXjpV",
        "colab": {
          "base_uri": "https://localhost:8080/"
        },
        "outputId": "e21b1591-669b-4833-ae03-ac6c2b325659"
      },
      "outputs": [
        {
          "output_type": "stream",
          "name": "stdout",
          "text": [
            "['A', 'a']\n"
          ]
        }
      ],
      "source": [
        "def palindrom(file):\n",
        "  w=file.read().split()\n",
        "  list=[]\n",
        "  for i in w:\n",
        "    if i==i[::-1]:\n",
        "      list.append(i)\n",
        "  return list\n",
        "with open(\"school.txt\",\"r\") as f:\n",
        "  print(palindrom(f))"
      ]
    }
  ],
  "metadata": {
    "colab": {
      "provenance": [],
      "include_colab_link": true
    },
    "kernelspec": {
      "display_name": "Python 3",
      "name": "python3"
    },
    "language_info": {
      "name": "python"
    }
  },
  "nbformat": 4,
  "nbformat_minor": 0
}